{
 "cells": [
  {
   "cell_type": "code",
   "execution_count": 1,
   "metadata": {},
   "outputs": [],
   "source": [
    "import os\n",
    "import numpy as np\n",
    "import math  \n",
    "import matplotlib\n",
    "import matplotlib.pyplot as plt\n",
    "# from sklearn import linear_model\n",
    "# from sklearn.linear_model import ElasticNet\n",
    "# from sklearn.datasets import make_regression\n",
    "# from sklearn.metrics import r2_score\n",
    "# from sklearn.neighbors import KNeighborsRegressor\n",
    "# from sklearn.linear_model import Ridge\n",
    "# from sklearn.gaussian_process import GaussianProcessRegressor\n",
    "from sklearn.neural_network import MLPRegressor\n",
    "# from sklearn.linear_model import LinearRegression\n",
    "# from sklearn.gaussian_process.kernels import (RBF, Matern, RationalQuadratic,\n",
    "#                                               ExpSineSquared, DotProduct,\n",
    "#                                               ConstantKernel)\n",
    "import time\n",
    "from sklearn.metrics import mean_squared_error\n",
    "import pickle  \n",
    "import datetime \n",
    "import json"
   ]
  },
  {
   "cell_type": "code",
   "execution_count": 2,
   "metadata": {},
   "outputs": [],
   "source": [
    "epsilon = 1\n",
    "sigma = 1\n",
    "rcut = 2.5\n",
    "blx = 1.1832159566199232e+02\n",
    "bly = 1.1832159566199232e+02\n",
    "atoms = 9800"
   ]
  },
  {
   "cell_type": "code",
   "execution_count": 5,
   "metadata": {},
   "outputs": [
    {
     "name": "stdout",
     "output_type": "stream",
     "text": [
      "Data shape  (340323, 41)\n"
     ]
    }
   ],
   "source": [
    "filename = 'data/testFxS1Sim60T1_2R_0_7atomDataCombined.npy'\n",
    "# data = np.load('c70TrainatomDataCombined.npy')\n",
    "data = np.load(filename)\n",
    "print('Data shape ', data.shape)"
   ]
  },
  {
   "cell_type": "code",
   "execution_count": 8,
   "metadata": {},
   "outputs": [
    {
     "data": {
      "text/plain": [
       "340323"
      ]
     },
     "execution_count": 8,
     "metadata": {},
     "output_type": "execute_result"
    }
   ],
   "source": [
    "\n",
    "# # shuffle data\n",
    "N = data.shape[0]\n",
    "\n",
    "# ids = np.arange(N)\n",
    "# np.random.seed(0)\n",
    "# np.random.shuffle(ids)\n",
    "# data = unshuffled_data[ids]\n",
    "\n",
    "class ObjectView(object):\n",
    "    def __init__(self, d): \n",
    "        self.__dict__ = d\n",
    "# data object\n",
    "lamps_data = ObjectView({})\n",
    "\n",
    "lamps_data.atom_id = data[:,0]\n",
    "lamps_data.x = data[:,5]\n",
    "lamps_data.y = data[:,6]\n",
    "lamps_data.z = data[:,7]\n",
    "lamps_data.fx = data[:,23]\n",
    "lamps_data.fy = data[:,24]\n",
    "lamps_data.vx = data[:,20]\n",
    "lamps_data.vy = data[:,21]\n",
    "lamps_data.timestep = data[:,26]\n",
    "lamps_data.force1Px = data[:,27]\n",
    "lamps_data.force1Py = data[:,28]\n",
    "lamps_data.force1Pz = data[:,29]\n",
    "lamps_data.forcexleftPx = data[:,30]\n",
    "lamps_data.forcexleftPy = data[:,31]\n",
    "lamps_data.forcexleftPz = data[:,32]\n",
    "lamps_data.temp = data[:,33]\n",
    "lamps_data.KE = data[:,34]\n",
    "lamps_data.PE = data[:,35]\n",
    "lamps_data.TE = data[:,36]\n",
    "lamps_data.Pressure = data[:,37]\n",
    "lamps_data.VxA = data[:,38]\n",
    "lamps_data.VyA = data[:,39]\n",
    "lamps_data.VzA = data[:,40]\n",
    "lamps_data.length = N\n",
    "\n",
    "lamps_data.x.shape\n",
    "lamps_data.length"
   ]
  },
  {
   "cell_type": "code",
   "execution_count": 9,
   "metadata": {},
   "outputs": [],
   "source": [
    "# Assemble Xtrain and Ytrain\n",
    "# Xtrain is the input\n",
    "\n",
    "def get_Xdata_atomic(lamps_data, test_fraction=0.1):\n",
    "    \"\"\" The atomic data is simply position and velocity\"\"\"\n",
    "    # we're only doing 2D data\n",
    "    X = np.vstack([lamps_data.x, lamps_data.y, lamps_data.vx, lamps_data.vy])\n",
    "    Ntest = int(lamps_data.length * 0.1)\n",
    "    Xtest = X[:, :Ntest].T\n",
    "    Xtrain = X[:, Ntest:].T\n",
    "    return Xtrain, Xtest\n",
    "\n",
    "def get_Ydata(lamps_data, test_fraction=0.1):\n",
    "    \"\"\" The output data is the X and Y forces\"\"\"\n",
    "    # we're only doing 2D data\n",
    "    Y = np.vstack([lamps_data.forcexleftPx, lamps_data.forcexleftPy])\n",
    "    Ntest = int(lamps_data.length * 0.1)\n",
    "    Ytest = Y[:, :Ntest].T\n",
    "    Ytrain = Y[:, Ntest:].T\n",
    "    return Ytrain, Ytest\n"
   ]
  },
  {
   "cell_type": "code",
   "execution_count": 10,
   "metadata": {},
   "outputs": [
    {
     "name": "stdout",
     "output_type": "stream",
     "text": [
      "(306291, 4)\n",
      "(306291, 2)\n",
      "(34032, 4)\n",
      "(34032, 2)\n"
     ]
    }
   ],
   "source": [
    "test_fraction = 0.1\n",
    "Xtrain, Xtest = get_Xdata_atomic(lamps_data, test_fraction=test_fraction)\n",
    "Ytrain, Ytest = get_Ydata(lamps_data, test_fraction=test_fraction)\n",
    "\n",
    "print(Xtrain.shape)\n",
    "print(Ytrain.shape)\n",
    "print(Xtest.shape)\n",
    "print(Ytest.shape)"
   ]
  },
  {
   "cell_type": "code",
   "execution_count": 11,
   "metadata": {},
   "outputs": [
    {
     "data": {
      "text/plain": [
       "MLPRegressor(activation='relu', alpha=0.0001, batch_size='auto', beta_1=0.9,\n",
       "       beta_2=0.999, early_stopping=False, epsilon=1e-08,\n",
       "       hidden_layer_sizes=(40, 40, 40, 40), learning_rate='constant',\n",
       "       learning_rate_init=0.001, max_iter=200, momentum=0.9,\n",
       "       n_iter_no_change=10, nesterovs_momentum=True, power_t=0.5,\n",
       "       random_state=0, shuffle=True, solver='adam', tol=0.0001,\n",
       "       validation_fraction=0.1, verbose=False, warm_start=False)"
      ]
     },
     "execution_count": 11,
     "metadata": {},
     "output_type": "execute_result"
    }
   ],
   "source": [
    "regressor_options = { 'hidden_layer_sizes':(40,40,40,40),\n",
    "                      'random_state':0,  # Random seed \n",
    "                    }\n",
    "\n",
    "regr = MLPRegressor(**regressor_options)\n",
    "\n",
    "regr.fit(Xtrain, Ytrain)\n"
   ]
  },
  {
   "cell_type": "code",
   "execution_count": null,
   "metadata": {},
   "outputs": [],
   "source": [
    "# score model using r^2 metric:\n",
    "score = regr.score(Xtest, Ytest)"
   ]
  },
  {
   "cell_type": "code",
   "execution_count": null,
   "metadata": {},
   "outputs": [],
   "source": [
    "# save model\n",
    "info = { 'data_filename': filename,\n",
    "         'model_type': 'sklearn.neural_network.MLPRegressor',\n",
    "         'score': score,\n",
    "         'regressor_options': regressor_options,\n",
    "        }\n",
    "print(json.dumps(info, indent=1))\n",
    "mlpfile = 'trained_multilayer_perceptron_' + timestamp + '.pkl'\n",
    "model_folder = 'trained_models/'\n",
    "def save_model(model_file, model, info):\n",
    "    pickle.dump((model, info), open(model_folder + model_file, 'wb'))\n",
    "    print('Model saved to %s' % model_file)\n",
    "    \n",
    "def load_model(model_file, model, info):\n",
    "    print('Loading model from %s' % model_file)\n",
    "    model, info = pickle.load(open(model_folder + model_file, 'rb'))\n",
    "    print(json.dumps(info, indent=1))\n",
    "    return model, info\n",
    "\n"
   ]
  }
 ],
 "metadata": {
  "kernelspec": {
   "display_name": "Python 3",
   "language": "python",
   "name": "python3"
  },
  "language_info": {
   "codemirror_mode": {
    "name": "ipython",
    "version": 3
   },
   "file_extension": ".py",
   "mimetype": "text/x-python",
   "name": "python",
   "nbconvert_exporter": "python",
   "pygments_lexer": "ipython3",
   "version": "3.7.6"
  }
 },
 "nbformat": 4,
 "nbformat_minor": 2
}
